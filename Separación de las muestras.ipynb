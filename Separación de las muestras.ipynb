{
 "cells": [
  {
   "cell_type": "markdown",
   "metadata": {},
   "source": [
    "# Separación de las muestras \n",
    "\n",
    "Esta es un pequeño ejemplo de cómo usar el método creado para separar las series de tiempo que resultan de las diferentes observaciones de un objeto.\n",
    "\n",
    "Primero importamos las bibliotecas tradicionales y además traemos la clase que creamos para separar las series de tiempo."
   ]
  },
  {
   "cell_type": "code",
   "execution_count": 1,
   "metadata": {},
   "outputs": [],
   "source": [
    "import numpy as np\n",
    "import pandas as pd\n",
    "from separate_samples import Separate_samples\n",
    "from bokeh.plotting import figure"
   ]
  },
  {
   "cell_type": "markdown",
   "metadata": {},
   "source": [
    "Cargamos los datos"
   ]
  },
  {
   "cell_type": "code",
   "execution_count": 2,
   "metadata": {},
   "outputs": [],
   "source": [
    "df_train = pd.read_csv('data/training_set.csv')\n",
    "obj_615 = df_train[df_train['object_id'] == 615]"
   ]
  },
  {
   "cell_type": "markdown",
   "metadata": {},
   "source": [
    "E instanciamos la clase, que nos permitirá separar la serie de tiempo `ts` del objeto 615"
   ]
  },
  {
   "cell_type": "code",
   "execution_count": 3,
   "metadata": {},
   "outputs": [
    {
     "name": "stdout",
     "output_type": "stream",
     "text": [
      "<separate_samples.Separate_samples object at 0x7f8ced408898>\n"
     ]
    },
    {
     "data": {
      "text/plain": [
       "0              (59750.4229, -544.810303)\n",
       "1       (59750.4306, -816.4343259999999)\n",
       "2              (59750.4383, -471.385529)\n",
       "3               (59750.445, -388.984985)\n",
       "4               (59752.407, -681.858887)\n",
       "5      (59752.4147, -1061.4570310000001)\n",
       "6               (59752.4224, -524.95459)\n",
       "7              (59752.4334, -393.480225)\n",
       "8               (59752.4435, -355.88678)\n",
       "9               (59767.2968, -548.01355)\n",
       "10      (59767.3045, -815.1885990000001)\n",
       "11     (59767.3122, -475.51605199999995)\n",
       "12             (59767.3233, -405.663818)\n",
       "13             (59767.3343, -421.199066)\n",
       "14      (59770.2179, -554.9031980000001)\n",
       "15             (59770.2256, -820.042786)\n",
       "16              (59770.2334, -477.00473)\n",
       "17             (59770.2445, -400.270386)\n",
       "18             (59770.2557, -415.286896)\n",
       "19             (59779.3188, -630.523682)\n",
       "20      (59779.3265, -921.0025019999999)\n",
       "21             (59779.3342, -518.533997)\n",
       "22             (59779.3452, -422.184509)\n",
       "23     (59779.3562, -422.81509400000004)\n",
       "24     (59782.1897, -280.03952000000004)\n",
       "25             (59782.1974, -449.095612)\n",
       "26             (59782.2051, -316.704865)\n",
       "27             (59782.2162, -332.885437)\n",
       "28             (59782.2274, -365.075775)\n",
       "29              (59797.2861, 391.399231)\n",
       "                     ...                \n",
       "92               (59867.0332, -62.06501)\n",
       "93              (59867.0443, 202.288223)\n",
       "94      (59867.0554, 270.58486899999997)\n",
       "95       (59870.0194, 604.3445429999999)\n",
       "96              (59870.0272, 659.486694)\n",
       "97              (59870.0349, 373.986511)\n",
       "98              (59870.0459, 322.604034)\n",
       "99              (59870.0571, 263.481476)\n",
       "100               (59873.0212, 4.656033)\n",
       "101             (59873.0289, -98.796974)\n",
       "102     (59873.0366, -93.73288000000001)\n",
       "103    (59873.0477, -165.79345700000002)\n",
       "104    (59873.0588, -233.50172400000002)\n",
       "105             (59874.0599, -97.353195)\n",
       "106              (59875.0311, -97.52388)\n",
       "107            (59876.0231, -108.672577)\n",
       "108            (59877.0238, -116.913223)\n",
       "109    (59878.0246, -102.76892099999999)\n",
       "110             (59879.0248, -52.407089)\n",
       "111              (59880.0258, 55.567715)\n",
       "112            (59884.0823, -274.711029)\n",
       "113      (59884.09, -437.42510999999996)\n",
       "114            (59884.0976, -310.010925)\n",
       "115             (59884.1085, -317.63092)\n",
       "116            (59884.1195, -351.278198)\n",
       "117            (59887.0298, -491.146423)\n",
       "118            (59887.0375, -743.267212)\n",
       "119            (59887.0451, -449.714752)\n",
       "120            (59887.0562, -393.971649)\n",
       "121            (59887.0673, -406.549103)\n",
       "Length: 122, dtype: object"
      ]
     },
     "execution_count": 3,
     "metadata": {},
     "output_type": "execute_result"
    }
   ],
   "source": [
    "ss = Separate_samples()\n",
    "\n",
    "samples = ss.get_separated_samples(obj_615)\n",
    "samples[0]"
   ]
  },
  {
   "cell_type": "code",
   "execution_count": null,
   "metadata": {},
   "outputs": [],
   "source": []
  }
 ],
 "metadata": {
  "kernelspec": {
   "display_name": "Python 3",
   "language": "python",
   "name": "python3"
  },
  "language_info": {
   "codemirror_mode": {
    "name": "ipython",
    "version": 3
   },
   "file_extension": ".py",
   "mimetype": "text/x-python",
   "name": "python",
   "nbconvert_exporter": "python",
   "pygments_lexer": "ipython3",
   "version": "3.6.7"
  }
 },
 "nbformat": 4,
 "nbformat_minor": 2
}

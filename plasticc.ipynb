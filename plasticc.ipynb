{
 "cells": [
  {
   "cell_type": "markdown",
   "metadata": {},
   "source": [
    "\n",
    "## Plasticc Challange"
   ]
  },
  {
   "cell_type": "code",
   "execution_count": 51,
   "metadata": {},
   "outputs": [
    {
     "data": {
      "text/html": [
       "\n",
       "    <div class=\"bk-root\">\n",
       "        <a href=\"https://bokeh.pydata.org\" target=\"_blank\" class=\"bk-logo bk-logo-small bk-logo-notebook\"></a>\n",
       "        <span id=\"3103\">Loading BokehJS ...</span>\n",
       "    </div>"
      ]
     },
     "metadata": {},
     "output_type": "display_data"
    },
    {
     "data": {
      "application/javascript": [
       "\n",
       "(function(root) {\n",
       "  function now() {\n",
       "    return new Date();\n",
       "  }\n",
       "\n",
       "  var force = true;\n",
       "\n",
       "  if (typeof (root._bokeh_onload_callbacks) === \"undefined\" || force === true) {\n",
       "    root._bokeh_onload_callbacks = [];\n",
       "    root._bokeh_is_loading = undefined;\n",
       "  }\n",
       "\n",
       "  var JS_MIME_TYPE = 'application/javascript';\n",
       "  var HTML_MIME_TYPE = 'text/html';\n",
       "  var EXEC_MIME_TYPE = 'application/vnd.bokehjs_exec.v0+json';\n",
       "  var CLASS_NAME = 'output_bokeh rendered_html';\n",
       "\n",
       "  /**\n",
       "   * Render data to the DOM node\n",
       "   */\n",
       "  function render(props, node) {\n",
       "    var script = document.createElement(\"script\");\n",
       "    node.appendChild(script);\n",
       "  }\n",
       "\n",
       "  /**\n",
       "   * Handle when an output is cleared or removed\n",
       "   */\n",
       "  function handleClearOutput(event, handle) {\n",
       "    var cell = handle.cell;\n",
       "\n",
       "    var id = cell.output_area._bokeh_element_id;\n",
       "    var server_id = cell.output_area._bokeh_server_id;\n",
       "    // Clean up Bokeh references\n",
       "    if (id != null && id in Bokeh.index) {\n",
       "      Bokeh.index[id].model.document.clear();\n",
       "      delete Bokeh.index[id];\n",
       "    }\n",
       "\n",
       "    if (server_id !== undefined) {\n",
       "      // Clean up Bokeh references\n",
       "      var cmd = \"from bokeh.io.state import curstate; print(curstate().uuid_to_server['\" + server_id + \"'].get_sessions()[0].document.roots[0]._id)\";\n",
       "      cell.notebook.kernel.execute(cmd, {\n",
       "        iopub: {\n",
       "          output: function(msg) {\n",
       "            var id = msg.content.text.trim();\n",
       "            if (id in Bokeh.index) {\n",
       "              Bokeh.index[id].model.document.clear();\n",
       "              delete Bokeh.index[id];\n",
       "            }\n",
       "          }\n",
       "        }\n",
       "      });\n",
       "      // Destroy server and session\n",
       "      var cmd = \"import bokeh.io.notebook as ion; ion.destroy_server('\" + server_id + \"')\";\n",
       "      cell.notebook.kernel.execute(cmd);\n",
       "    }\n",
       "  }\n",
       "\n",
       "  /**\n",
       "   * Handle when a new output is added\n",
       "   */\n",
       "  function handleAddOutput(event, handle) {\n",
       "    var output_area = handle.output_area;\n",
       "    var output = handle.output;\n",
       "\n",
       "    // limit handleAddOutput to display_data with EXEC_MIME_TYPE content only\n",
       "    if ((output.output_type != \"display_data\") || (!output.data.hasOwnProperty(EXEC_MIME_TYPE))) {\n",
       "      return\n",
       "    }\n",
       "\n",
       "    var toinsert = output_area.element.find(\".\" + CLASS_NAME.split(' ')[0]);\n",
       "\n",
       "    if (output.metadata[EXEC_MIME_TYPE][\"id\"] !== undefined) {\n",
       "      toinsert[toinsert.length - 1].firstChild.textContent = output.data[JS_MIME_TYPE];\n",
       "      // store reference to embed id on output_area\n",
       "      output_area._bokeh_element_id = output.metadata[EXEC_MIME_TYPE][\"id\"];\n",
       "    }\n",
       "    if (output.metadata[EXEC_MIME_TYPE][\"server_id\"] !== undefined) {\n",
       "      var bk_div = document.createElement(\"div\");\n",
       "      bk_div.innerHTML = output.data[HTML_MIME_TYPE];\n",
       "      var script_attrs = bk_div.children[0].attributes;\n",
       "      for (var i = 0; i < script_attrs.length; i++) {\n",
       "        toinsert[toinsert.length - 1].firstChild.setAttribute(script_attrs[i].name, script_attrs[i].value);\n",
       "      }\n",
       "      // store reference to server id on output_area\n",
       "      output_area._bokeh_server_id = output.metadata[EXEC_MIME_TYPE][\"server_id\"];\n",
       "    }\n",
       "  }\n",
       "\n",
       "  function register_renderer(events, OutputArea) {\n",
       "\n",
       "    function append_mime(data, metadata, element) {\n",
       "      // create a DOM node to render to\n",
       "      var toinsert = this.create_output_subarea(\n",
       "        metadata,\n",
       "        CLASS_NAME,\n",
       "        EXEC_MIME_TYPE\n",
       "      );\n",
       "      this.keyboard_manager.register_events(toinsert);\n",
       "      // Render to node\n",
       "      var props = {data: data, metadata: metadata[EXEC_MIME_TYPE]};\n",
       "      render(props, toinsert[toinsert.length - 1]);\n",
       "      element.append(toinsert);\n",
       "      return toinsert\n",
       "    }\n",
       "\n",
       "    /* Handle when an output is cleared or removed */\n",
       "    events.on('clear_output.CodeCell', handleClearOutput);\n",
       "    events.on('delete.Cell', handleClearOutput);\n",
       "\n",
       "    /* Handle when a new output is added */\n",
       "    events.on('output_added.OutputArea', handleAddOutput);\n",
       "\n",
       "    /**\n",
       "     * Register the mime type and append_mime function with output_area\n",
       "     */\n",
       "    OutputArea.prototype.register_mime_type(EXEC_MIME_TYPE, append_mime, {\n",
       "      /* Is output safe? */\n",
       "      safe: true,\n",
       "      /* Index of renderer in `output_area.display_order` */\n",
       "      index: 0\n",
       "    });\n",
       "  }\n",
       "\n",
       "  // register the mime type if in Jupyter Notebook environment and previously unregistered\n",
       "  if (root.Jupyter !== undefined) {\n",
       "    var events = require('base/js/events');\n",
       "    var OutputArea = require('notebook/js/outputarea').OutputArea;\n",
       "\n",
       "    if (OutputArea.prototype.mime_types().indexOf(EXEC_MIME_TYPE) == -1) {\n",
       "      register_renderer(events, OutputArea);\n",
       "    }\n",
       "  }\n",
       "\n",
       "  \n",
       "  if (typeof (root._bokeh_timeout) === \"undefined\" || force === true) {\n",
       "    root._bokeh_timeout = Date.now() + 5000;\n",
       "    root._bokeh_failed_load = false;\n",
       "  }\n",
       "\n",
       "  var NB_LOAD_WARNING = {'data': {'text/html':\n",
       "     \"<div style='background-color: #fdd'>\\n\"+\n",
       "     \"<p>\\n\"+\n",
       "     \"BokehJS does not appear to have successfully loaded. If loading BokehJS from CDN, this \\n\"+\n",
       "     \"may be due to a slow or bad network connection. Possible fixes:\\n\"+\n",
       "     \"</p>\\n\"+\n",
       "     \"<ul>\\n\"+\n",
       "     \"<li>re-rerun `output_notebook()` to attempt to load from CDN again, or</li>\\n\"+\n",
       "     \"<li>use INLINE resources instead, as so:</li>\\n\"+\n",
       "     \"</ul>\\n\"+\n",
       "     \"<code>\\n\"+\n",
       "     \"from bokeh.resources import INLINE\\n\"+\n",
       "     \"output_notebook(resources=INLINE)\\n\"+\n",
       "     \"</code>\\n\"+\n",
       "     \"</div>\"}};\n",
       "\n",
       "  function display_loaded() {\n",
       "    var el = document.getElementById(\"3103\");\n",
       "    if (el != null) {\n",
       "      el.textContent = \"BokehJS is loading...\";\n",
       "    }\n",
       "    if (root.Bokeh !== undefined) {\n",
       "      if (el != null) {\n",
       "        el.textContent = \"BokehJS \" + root.Bokeh.version + \" successfully loaded.\";\n",
       "      }\n",
       "    } else if (Date.now() < root._bokeh_timeout) {\n",
       "      setTimeout(display_loaded, 100)\n",
       "    }\n",
       "  }\n",
       "\n",
       "\n",
       "  function run_callbacks() {\n",
       "    try {\n",
       "      root._bokeh_onload_callbacks.forEach(function(callback) { callback() });\n",
       "    }\n",
       "    finally {\n",
       "      delete root._bokeh_onload_callbacks\n",
       "    }\n",
       "    console.info(\"Bokeh: all callbacks have finished\");\n",
       "  }\n",
       "\n",
       "  function load_libs(js_urls, callback) {\n",
       "    root._bokeh_onload_callbacks.push(callback);\n",
       "    if (root._bokeh_is_loading > 0) {\n",
       "      console.log(\"Bokeh: BokehJS is being loaded, scheduling callback at\", now());\n",
       "      return null;\n",
       "    }\n",
       "    if (js_urls == null || js_urls.length === 0) {\n",
       "      run_callbacks();\n",
       "      return null;\n",
       "    }\n",
       "    console.log(\"Bokeh: BokehJS not loaded, scheduling load and callback at\", now());\n",
       "    root._bokeh_is_loading = js_urls.length;\n",
       "    for (var i = 0; i < js_urls.length; i++) {\n",
       "      var url = js_urls[i];\n",
       "      var s = document.createElement('script');\n",
       "      s.src = url;\n",
       "      s.async = false;\n",
       "      s.onreadystatechange = s.onload = function() {\n",
       "        root._bokeh_is_loading--;\n",
       "        if (root._bokeh_is_loading === 0) {\n",
       "          console.log(\"Bokeh: all BokehJS libraries loaded\");\n",
       "          run_callbacks()\n",
       "        }\n",
       "      };\n",
       "      s.onerror = function() {\n",
       "        console.warn(\"failed to load library \" + url);\n",
       "      };\n",
       "      console.log(\"Bokeh: injecting script tag for BokehJS library: \", url);\n",
       "      document.getElementsByTagName(\"head\")[0].appendChild(s);\n",
       "    }\n",
       "  };var element = document.getElementById(\"3103\");\n",
       "  if (element == null) {\n",
       "    console.log(\"Bokeh: ERROR: autoload.js configured with elementid '3103' but no matching script tag was found. \")\n",
       "    return false;\n",
       "  }\n",
       "\n",
       "  var js_urls = [\"https://cdn.pydata.org/bokeh/release/bokeh-1.0.4.min.js\", \"https://cdn.pydata.org/bokeh/release/bokeh-widgets-1.0.4.min.js\", \"https://cdn.pydata.org/bokeh/release/bokeh-tables-1.0.4.min.js\", \"https://cdn.pydata.org/bokeh/release/bokeh-gl-1.0.4.min.js\"];\n",
       "\n",
       "  var inline_js = [\n",
       "    function(Bokeh) {\n",
       "      Bokeh.set_log_level(\"info\");\n",
       "    },\n",
       "    \n",
       "    function(Bokeh) {\n",
       "      \n",
       "    },\n",
       "    function(Bokeh) {\n",
       "      console.log(\"Bokeh: injecting CSS: https://cdn.pydata.org/bokeh/release/bokeh-1.0.4.min.css\");\n",
       "      Bokeh.embed.inject_css(\"https://cdn.pydata.org/bokeh/release/bokeh-1.0.4.min.css\");\n",
       "      console.log(\"Bokeh: injecting CSS: https://cdn.pydata.org/bokeh/release/bokeh-widgets-1.0.4.min.css\");\n",
       "      Bokeh.embed.inject_css(\"https://cdn.pydata.org/bokeh/release/bokeh-widgets-1.0.4.min.css\");\n",
       "      console.log(\"Bokeh: injecting CSS: https://cdn.pydata.org/bokeh/release/bokeh-tables-1.0.4.min.css\");\n",
       "      Bokeh.embed.inject_css(\"https://cdn.pydata.org/bokeh/release/bokeh-tables-1.0.4.min.css\");\n",
       "    }\n",
       "  ];\n",
       "\n",
       "  function run_inline_js() {\n",
       "    \n",
       "    if ((root.Bokeh !== undefined) || (force === true)) {\n",
       "      for (var i = 0; i < inline_js.length; i++) {\n",
       "        inline_js[i].call(root, root.Bokeh);\n",
       "      }if (force === true) {\n",
       "        display_loaded();\n",
       "      }} else if (Date.now() < root._bokeh_timeout) {\n",
       "      setTimeout(run_inline_js, 100);\n",
       "    } else if (!root._bokeh_failed_load) {\n",
       "      console.log(\"Bokeh: BokehJS failed to load within specified timeout.\");\n",
       "      root._bokeh_failed_load = true;\n",
       "    } else if (force !== true) {\n",
       "      var cell = $(document.getElementById(\"3103\")).parents('.cell').data().cell;\n",
       "      cell.output_area.append_execute_result(NB_LOAD_WARNING)\n",
       "    }\n",
       "\n",
       "  }\n",
       "\n",
       "  if (root._bokeh_is_loading === 0) {\n",
       "    console.log(\"Bokeh: BokehJS loaded, going straight to plotting\");\n",
       "    run_inline_js();\n",
       "  } else {\n",
       "    load_libs(js_urls, function() {\n",
       "      console.log(\"Bokeh: BokehJS plotting callback run at\", now());\n",
       "      run_inline_js();\n",
       "    });\n",
       "  }\n",
       "}(window));"
      ],
      "application/vnd.bokehjs_load.v0+json": "\n(function(root) {\n  function now() {\n    return new Date();\n  }\n\n  var force = true;\n\n  if (typeof (root._bokeh_onload_callbacks) === \"undefined\" || force === true) {\n    root._bokeh_onload_callbacks = [];\n    root._bokeh_is_loading = undefined;\n  }\n\n  \n\n  \n  if (typeof (root._bokeh_timeout) === \"undefined\" || force === true) {\n    root._bokeh_timeout = Date.now() + 5000;\n    root._bokeh_failed_load = false;\n  }\n\n  var NB_LOAD_WARNING = {'data': {'text/html':\n     \"<div style='background-color: #fdd'>\\n\"+\n     \"<p>\\n\"+\n     \"BokehJS does not appear to have successfully loaded. If loading BokehJS from CDN, this \\n\"+\n     \"may be due to a slow or bad network connection. Possible fixes:\\n\"+\n     \"</p>\\n\"+\n     \"<ul>\\n\"+\n     \"<li>re-rerun `output_notebook()` to attempt to load from CDN again, or</li>\\n\"+\n     \"<li>use INLINE resources instead, as so:</li>\\n\"+\n     \"</ul>\\n\"+\n     \"<code>\\n\"+\n     \"from bokeh.resources import INLINE\\n\"+\n     \"output_notebook(resources=INLINE)\\n\"+\n     \"</code>\\n\"+\n     \"</div>\"}};\n\n  function display_loaded() {\n    var el = document.getElementById(\"3103\");\n    if (el != null) {\n      el.textContent = \"BokehJS is loading...\";\n    }\n    if (root.Bokeh !== undefined) {\n      if (el != null) {\n        el.textContent = \"BokehJS \" + root.Bokeh.version + \" successfully loaded.\";\n      }\n    } else if (Date.now() < root._bokeh_timeout) {\n      setTimeout(display_loaded, 100)\n    }\n  }\n\n\n  function run_callbacks() {\n    try {\n      root._bokeh_onload_callbacks.forEach(function(callback) { callback() });\n    }\n    finally {\n      delete root._bokeh_onload_callbacks\n    }\n    console.info(\"Bokeh: all callbacks have finished\");\n  }\n\n  function load_libs(js_urls, callback) {\n    root._bokeh_onload_callbacks.push(callback);\n    if (root._bokeh_is_loading > 0) {\n      console.log(\"Bokeh: BokehJS is being loaded, scheduling callback at\", now());\n      return null;\n    }\n    if (js_urls == null || js_urls.length === 0) {\n      run_callbacks();\n      return null;\n    }\n    console.log(\"Bokeh: BokehJS not loaded, scheduling load and callback at\", now());\n    root._bokeh_is_loading = js_urls.length;\n    for (var i = 0; i < js_urls.length; i++) {\n      var url = js_urls[i];\n      var s = document.createElement('script');\n      s.src = url;\n      s.async = false;\n      s.onreadystatechange = s.onload = function() {\n        root._bokeh_is_loading--;\n        if (root._bokeh_is_loading === 0) {\n          console.log(\"Bokeh: all BokehJS libraries loaded\");\n          run_callbacks()\n        }\n      };\n      s.onerror = function() {\n        console.warn(\"failed to load library \" + url);\n      };\n      console.log(\"Bokeh: injecting script tag for BokehJS library: \", url);\n      document.getElementsByTagName(\"head\")[0].appendChild(s);\n    }\n  };var element = document.getElementById(\"3103\");\n  if (element == null) {\n    console.log(\"Bokeh: ERROR: autoload.js configured with elementid '3103' but no matching script tag was found. \")\n    return false;\n  }\n\n  var js_urls = [\"https://cdn.pydata.org/bokeh/release/bokeh-1.0.4.min.js\", \"https://cdn.pydata.org/bokeh/release/bokeh-widgets-1.0.4.min.js\", \"https://cdn.pydata.org/bokeh/release/bokeh-tables-1.0.4.min.js\", \"https://cdn.pydata.org/bokeh/release/bokeh-gl-1.0.4.min.js\"];\n\n  var inline_js = [\n    function(Bokeh) {\n      Bokeh.set_log_level(\"info\");\n    },\n    \n    function(Bokeh) {\n      \n    },\n    function(Bokeh) {\n      console.log(\"Bokeh: injecting CSS: https://cdn.pydata.org/bokeh/release/bokeh-1.0.4.min.css\");\n      Bokeh.embed.inject_css(\"https://cdn.pydata.org/bokeh/release/bokeh-1.0.4.min.css\");\n      console.log(\"Bokeh: injecting CSS: https://cdn.pydata.org/bokeh/release/bokeh-widgets-1.0.4.min.css\");\n      Bokeh.embed.inject_css(\"https://cdn.pydata.org/bokeh/release/bokeh-widgets-1.0.4.min.css\");\n      console.log(\"Bokeh: injecting CSS: https://cdn.pydata.org/bokeh/release/bokeh-tables-1.0.4.min.css\");\n      Bokeh.embed.inject_css(\"https://cdn.pydata.org/bokeh/release/bokeh-tables-1.0.4.min.css\");\n    }\n  ];\n\n  function run_inline_js() {\n    \n    if ((root.Bokeh !== undefined) || (force === true)) {\n      for (var i = 0; i < inline_js.length; i++) {\n        inline_js[i].call(root, root.Bokeh);\n      }if (force === true) {\n        display_loaded();\n      }} else if (Date.now() < root._bokeh_timeout) {\n      setTimeout(run_inline_js, 100);\n    } else if (!root._bokeh_failed_load) {\n      console.log(\"Bokeh: BokehJS failed to load within specified timeout.\");\n      root._bokeh_failed_load = true;\n    } else if (force !== true) {\n      var cell = $(document.getElementById(\"3103\")).parents('.cell').data().cell;\n      cell.output_area.append_execute_result(NB_LOAD_WARNING)\n    }\n\n  }\n\n  if (root._bokeh_is_loading === 0) {\n    console.log(\"Bokeh: BokehJS loaded, going straight to plotting\");\n    run_inline_js();\n  } else {\n    load_libs(js_urls, function() {\n      console.log(\"Bokeh: BokehJS plotting callback run at\", now());\n      run_inline_js();\n    });\n  }\n}(window));"
     },
     "metadata": {},
     "output_type": "display_data"
    }
   ],
   "source": [
    "#Import pandas for manipulating dataframes\n",
    "import pandas as pd\n",
    "\n",
    "#Import matplot for visualization figures\n",
    "import matplotlib.pyplot as plt\n",
    "\n",
    "# Import figure from bokeh.plotting\n",
    "from bokeh.plotting import figure\n",
    "\n",
    "# Import output_file and show from bokeh.io\n",
    "from bokeh.io import  output_notebook, show\n",
    "output_notebook()"
   ]
  },
  {
   "cell_type": "markdown",
   "metadata": {},
   "source": [
    "### Load datasets"
   ]
  },
  {
   "cell_type": "code",
   "execution_count": 9,
   "metadata": {},
   "outputs": [],
   "source": [
    "df_sample = pd.read_csv('data/sample_submission.csv')\n",
    "df_metadata = pd.read_csv('data/training_set_metadata.csv')\n",
    "df_train = pd.read_csv('data/training_set.csv')\n",
    "df_test_sample = pd.read_csv('data/test_set_sample.csv')"
   ]
  },
  {
   "cell_type": "code",
   "execution_count": 12,
   "metadata": {},
   "outputs": [
    {
     "data": {
      "text/html": [
       "<div>\n",
       "<style scoped>\n",
       "    .dataframe tbody tr th:only-of-type {\n",
       "        vertical-align: middle;\n",
       "    }\n",
       "\n",
       "    .dataframe tbody tr th {\n",
       "        vertical-align: top;\n",
       "    }\n",
       "\n",
       "    .dataframe thead th {\n",
       "        text-align: right;\n",
       "    }\n",
       "</style>\n",
       "<table border=\"1\" class=\"dataframe\">\n",
       "  <thead>\n",
       "    <tr style=\"text-align: right;\">\n",
       "      <th></th>\n",
       "      <th>object_id</th>\n",
       "      <th>ra</th>\n",
       "      <th>decl</th>\n",
       "      <th>gal_l</th>\n",
       "      <th>gal_b</th>\n",
       "      <th>ddf</th>\n",
       "      <th>hostgal_specz</th>\n",
       "      <th>hostgal_photoz</th>\n",
       "      <th>hostgal_photoz_err</th>\n",
       "      <th>distmod</th>\n",
       "      <th>mwebv</th>\n",
       "      <th>target</th>\n",
       "    </tr>\n",
       "  </thead>\n",
       "  <tbody>\n",
       "    <tr>\n",
       "      <th>0</th>\n",
       "      <td>615</td>\n",
       "      <td>349.046051</td>\n",
       "      <td>-61.943836</td>\n",
       "      <td>320.796530</td>\n",
       "      <td>-51.753706</td>\n",
       "      <td>1</td>\n",
       "      <td>0.0000</td>\n",
       "      <td>0.0000</td>\n",
       "      <td>0.0000</td>\n",
       "      <td>NaN</td>\n",
       "      <td>0.017</td>\n",
       "      <td>92</td>\n",
       "    </tr>\n",
       "    <tr>\n",
       "      <th>1</th>\n",
       "      <td>713</td>\n",
       "      <td>53.085938</td>\n",
       "      <td>-27.784405</td>\n",
       "      <td>223.525509</td>\n",
       "      <td>-54.460748</td>\n",
       "      <td>1</td>\n",
       "      <td>1.8181</td>\n",
       "      <td>1.6267</td>\n",
       "      <td>0.2552</td>\n",
       "      <td>45.4063</td>\n",
       "      <td>0.007</td>\n",
       "      <td>88</td>\n",
       "    </tr>\n",
       "    <tr>\n",
       "      <th>2</th>\n",
       "      <td>730</td>\n",
       "      <td>33.574219</td>\n",
       "      <td>-6.579593</td>\n",
       "      <td>170.455585</td>\n",
       "      <td>-61.548219</td>\n",
       "      <td>1</td>\n",
       "      <td>0.2320</td>\n",
       "      <td>0.2262</td>\n",
       "      <td>0.0157</td>\n",
       "      <td>40.2561</td>\n",
       "      <td>0.021</td>\n",
       "      <td>42</td>\n",
       "    </tr>\n",
       "  </tbody>\n",
       "</table>\n",
       "</div>"
      ],
      "text/plain": [
       "   object_id          ra       decl       gal_l      gal_b  ddf  \\\n",
       "0        615  349.046051 -61.943836  320.796530 -51.753706    1   \n",
       "1        713   53.085938 -27.784405  223.525509 -54.460748    1   \n",
       "2        730   33.574219  -6.579593  170.455585 -61.548219    1   \n",
       "\n",
       "   hostgal_specz  hostgal_photoz  hostgal_photoz_err  distmod  mwebv  target  \n",
       "0         0.0000          0.0000              0.0000      NaN  0.017      92  \n",
       "1         1.8181          1.6267              0.2552  45.4063  0.007      88  \n",
       "2         0.2320          0.2262              0.0157  40.2561  0.021      42  "
      ]
     },
     "execution_count": 12,
     "metadata": {},
     "output_type": "execute_result"
    }
   ],
   "source": [
    "df_sample.head(3)\n",
    "df_metadata.head(3)"
   ]
  },
  {
   "cell_type": "markdown",
   "metadata": {},
   "source": [
    "\n",
    "## Metadata\n",
    "\n",
    "Attributes: \n",
    "- object_id\n",
    "- ra\n",
    "- decl\n",
    "- gal_l\n",
    "- gal_b\n",
    "- ddf\n",
    "- hostgal_specz\n",
    "- hostgal_photoz\n",
    "- hostgal_photoz_err\n",
    "- distmod\n",
    "- mwebv\n",
    "- target"
   ]
  },
  {
   "cell_type": "code",
   "execution_count": 23,
   "metadata": {},
   "outputs": [
    {
     "name": "stdout",
     "output_type": "stream",
     "text": [
      "Cantidad de objetos registrados (7848, 12)\n"
     ]
    }
   ],
   "source": [
    "print(\"Cantidad de objetos registrados \"+ str(df_metadata.shape))"
   ]
  },
  {
   "cell_type": "code",
   "execution_count": 24,
   "metadata": {},
   "outputs": [
    {
     "data": {
      "text/html": [
       "<div>\n",
       "<style scoped>\n",
       "    .dataframe tbody tr th:only-of-type {\n",
       "        vertical-align: middle;\n",
       "    }\n",
       "\n",
       "    .dataframe tbody tr th {\n",
       "        vertical-align: top;\n",
       "    }\n",
       "\n",
       "    .dataframe thead th {\n",
       "        text-align: right;\n",
       "    }\n",
       "</style>\n",
       "<table border=\"1\" class=\"dataframe\">\n",
       "  <thead>\n",
       "    <tr style=\"text-align: right;\">\n",
       "      <th></th>\n",
       "      <th>object_id</th>\n",
       "      <th>ra</th>\n",
       "      <th>decl</th>\n",
       "      <th>gal_l</th>\n",
       "      <th>gal_b</th>\n",
       "      <th>ddf</th>\n",
       "      <th>hostgal_specz</th>\n",
       "      <th>hostgal_photoz</th>\n",
       "      <th>hostgal_photoz_err</th>\n",
       "      <th>distmod</th>\n",
       "      <th>mwebv</th>\n",
       "      <th>target</th>\n",
       "    </tr>\n",
       "  </thead>\n",
       "  <tbody>\n",
       "    <tr>\n",
       "      <th>0</th>\n",
       "      <td>615</td>\n",
       "      <td>349.046051</td>\n",
       "      <td>-61.943836</td>\n",
       "      <td>320.796530</td>\n",
       "      <td>-51.753706</td>\n",
       "      <td>1</td>\n",
       "      <td>0.0000</td>\n",
       "      <td>0.0000</td>\n",
       "      <td>0.0000</td>\n",
       "      <td>NaN</td>\n",
       "      <td>0.017</td>\n",
       "      <td>92</td>\n",
       "    </tr>\n",
       "    <tr>\n",
       "      <th>1</th>\n",
       "      <td>713</td>\n",
       "      <td>53.085938</td>\n",
       "      <td>-27.784405</td>\n",
       "      <td>223.525509</td>\n",
       "      <td>-54.460748</td>\n",
       "      <td>1</td>\n",
       "      <td>1.8181</td>\n",
       "      <td>1.6267</td>\n",
       "      <td>0.2552</td>\n",
       "      <td>45.4063</td>\n",
       "      <td>0.007</td>\n",
       "      <td>88</td>\n",
       "    </tr>\n",
       "    <tr>\n",
       "      <th>2</th>\n",
       "      <td>730</td>\n",
       "      <td>33.574219</td>\n",
       "      <td>-6.579593</td>\n",
       "      <td>170.455585</td>\n",
       "      <td>-61.548219</td>\n",
       "      <td>1</td>\n",
       "      <td>0.2320</td>\n",
       "      <td>0.2262</td>\n",
       "      <td>0.0157</td>\n",
       "      <td>40.2561</td>\n",
       "      <td>0.021</td>\n",
       "      <td>42</td>\n",
       "    </tr>\n",
       "    <tr>\n",
       "      <th>3</th>\n",
       "      <td>745</td>\n",
       "      <td>0.189873</td>\n",
       "      <td>-45.586655</td>\n",
       "      <td>328.254458</td>\n",
       "      <td>-68.969298</td>\n",
       "      <td>1</td>\n",
       "      <td>0.3037</td>\n",
       "      <td>0.2813</td>\n",
       "      <td>1.1523</td>\n",
       "      <td>40.7951</td>\n",
       "      <td>0.007</td>\n",
       "      <td>90</td>\n",
       "    </tr>\n",
       "    <tr>\n",
       "      <th>4</th>\n",
       "      <td>1124</td>\n",
       "      <td>352.711273</td>\n",
       "      <td>-63.823658</td>\n",
       "      <td>316.922299</td>\n",
       "      <td>-51.059403</td>\n",
       "      <td>1</td>\n",
       "      <td>0.1934</td>\n",
       "      <td>0.2415</td>\n",
       "      <td>0.0176</td>\n",
       "      <td>40.4166</td>\n",
       "      <td>0.024</td>\n",
       "      <td>90</td>\n",
       "    </tr>\n",
       "  </tbody>\n",
       "</table>\n",
       "</div>"
      ],
      "text/plain": [
       "   object_id          ra       decl       gal_l      gal_b  ddf  \\\n",
       "0        615  349.046051 -61.943836  320.796530 -51.753706    1   \n",
       "1        713   53.085938 -27.784405  223.525509 -54.460748    1   \n",
       "2        730   33.574219  -6.579593  170.455585 -61.548219    1   \n",
       "3        745    0.189873 -45.586655  328.254458 -68.969298    1   \n",
       "4       1124  352.711273 -63.823658  316.922299 -51.059403    1   \n",
       "\n",
       "   hostgal_specz  hostgal_photoz  hostgal_photoz_err  distmod  mwebv  target  \n",
       "0         0.0000          0.0000              0.0000      NaN  0.017      92  \n",
       "1         1.8181          1.6267              0.2552  45.4063  0.007      88  \n",
       "2         0.2320          0.2262              0.0157  40.2561  0.021      42  \n",
       "3         0.3037          0.2813              1.1523  40.7951  0.007      90  \n",
       "4         0.1934          0.2415              0.0176  40.4166  0.024      90  "
      ]
     },
     "execution_count": 24,
     "metadata": {},
     "output_type": "execute_result"
    }
   ],
   "source": [
    "df_metadata.head(5)"
   ]
  },
  {
   "cell_type": "code",
   "execution_count": 25,
   "metadata": {},
   "outputs": [
    {
     "name": "stdout",
     "output_type": "stream",
     "text": [
      "Número de clases: 14\n"
     ]
    }
   ],
   "source": [
    "num_clases = df_metadata['target'].unique()\n",
    "print(\"Número de clases: \"+ str(len(num_clases)))"
   ]
  },
  {
   "cell_type": "markdown",
   "metadata": {},
   "source": [
    "## Conjunto de entranamiento"
   ]
  },
  {
   "cell_type": "code",
   "execution_count": 26,
   "metadata": {},
   "outputs": [
    {
     "data": {
      "text/html": [
       "<div>\n",
       "<style scoped>\n",
       "    .dataframe tbody tr th:only-of-type {\n",
       "        vertical-align: middle;\n",
       "    }\n",
       "\n",
       "    .dataframe tbody tr th {\n",
       "        vertical-align: top;\n",
       "    }\n",
       "\n",
       "    .dataframe thead th {\n",
       "        text-align: right;\n",
       "    }\n",
       "</style>\n",
       "<table border=\"1\" class=\"dataframe\">\n",
       "  <thead>\n",
       "    <tr style=\"text-align: right;\">\n",
       "      <th></th>\n",
       "      <th>object_id</th>\n",
       "      <th>mjd</th>\n",
       "      <th>passband</th>\n",
       "      <th>flux</th>\n",
       "      <th>flux_err</th>\n",
       "      <th>detected</th>\n",
       "    </tr>\n",
       "  </thead>\n",
       "  <tbody>\n",
       "    <tr>\n",
       "      <th>0</th>\n",
       "      <td>615</td>\n",
       "      <td>59750.4229</td>\n",
       "      <td>2</td>\n",
       "      <td>-544.810303</td>\n",
       "      <td>3.622952</td>\n",
       "      <td>1</td>\n",
       "    </tr>\n",
       "    <tr>\n",
       "      <th>1</th>\n",
       "      <td>615</td>\n",
       "      <td>59750.4306</td>\n",
       "      <td>1</td>\n",
       "      <td>-816.434326</td>\n",
       "      <td>5.553370</td>\n",
       "      <td>1</td>\n",
       "    </tr>\n",
       "    <tr>\n",
       "      <th>2</th>\n",
       "      <td>615</td>\n",
       "      <td>59750.4383</td>\n",
       "      <td>3</td>\n",
       "      <td>-471.385529</td>\n",
       "      <td>3.801213</td>\n",
       "      <td>1</td>\n",
       "    </tr>\n",
       "    <tr>\n",
       "      <th>3</th>\n",
       "      <td>615</td>\n",
       "      <td>59750.4450</td>\n",
       "      <td>4</td>\n",
       "      <td>-388.984985</td>\n",
       "      <td>11.395031</td>\n",
       "      <td>1</td>\n",
       "    </tr>\n",
       "    <tr>\n",
       "      <th>4</th>\n",
       "      <td>615</td>\n",
       "      <td>59752.4070</td>\n",
       "      <td>2</td>\n",
       "      <td>-681.858887</td>\n",
       "      <td>4.041204</td>\n",
       "      <td>1</td>\n",
       "    </tr>\n",
       "  </tbody>\n",
       "</table>\n",
       "</div>"
      ],
      "text/plain": [
       "   object_id         mjd  passband        flux   flux_err  detected\n",
       "0        615  59750.4229         2 -544.810303   3.622952         1\n",
       "1        615  59750.4306         1 -816.434326   5.553370         1\n",
       "2        615  59750.4383         3 -471.385529   3.801213         1\n",
       "3        615  59750.4450         4 -388.984985  11.395031         1\n",
       "4        615  59752.4070         2 -681.858887   4.041204         1"
      ]
     },
     "execution_count": 26,
     "metadata": {},
     "output_type": "execute_result"
    }
   ],
   "source": [
    "df_train.head()"
   ]
  },
  {
   "cell_type": "code",
   "execution_count": 27,
   "metadata": {},
   "outputs": [
    {
     "data": {
      "text/plain": [
       "(1421705, 6)"
      ]
     },
     "execution_count": 27,
     "metadata": {},
     "output_type": "execute_result"
    }
   ],
   "source": [
    "df_train.shape"
   ]
  },
  {
   "cell_type": "markdown",
   "metadata": {},
   "source": [
    "### Object 615"
   ]
  },
  {
   "cell_type": "code",
   "execution_count": 28,
   "metadata": {},
   "outputs": [
    {
     "data": {
      "text/plain": [
       "(352, 6)"
      ]
     },
     "execution_count": 28,
     "metadata": {},
     "output_type": "execute_result"
    }
   ],
   "source": [
    "obj_615 = df_train[df_train['object_id'] == 615]\n",
    "obj_615.shape"
   ]
  },
  {
   "cell_type": "code",
   "execution_count": 29,
   "metadata": {},
   "outputs": [
    {
     "data": {
      "text/plain": [
       "array([2, 1, 3, 4, 5, 0])"
      ]
     },
     "execution_count": 29,
     "metadata": {},
     "output_type": "execute_result"
    }
   ],
   "source": [
    "obj_615['passband'].unique()\n"
   ]
  },
  {
   "cell_type": "code",
   "execution_count": 30,
   "metadata": {},
   "outputs": [
    {
     "data": {
      "text/plain": [
       "(58, 6)"
      ]
     },
     "execution_count": 30,
     "metadata": {},
     "output_type": "execute_result"
    }
   ],
   "source": [
    "pass_1 = obj_615[obj_615['passband'] == 1]\n",
    "pass_1.shape"
   ]
  },
  {
   "cell_type": "code",
   "execution_count": 31,
   "metadata": {},
   "outputs": [
    {
     "data": {
      "text/plain": [
       "<bound method Series.min of 0      59750.4229\n",
       "1      59750.4306\n",
       "2      59750.4383\n",
       "3      59750.4450\n",
       "4      59752.4070\n",
       "5      59752.4147\n",
       "6      59752.4224\n",
       "7      59752.4334\n",
       "8      59752.4435\n",
       "9      59767.2968\n",
       "10     59767.3045\n",
       "11     59767.3122\n",
       "12     59767.3233\n",
       "13     59767.3343\n",
       "14     59770.2179\n",
       "15     59770.2256\n",
       "16     59770.2334\n",
       "17     59770.2445\n",
       "18     59770.2557\n",
       "19     59779.3188\n",
       "20     59779.3265\n",
       "21     59779.3342\n",
       "22     59779.3452\n",
       "23     59779.3562\n",
       "24     59782.1897\n",
       "25     59782.1974\n",
       "26     59782.2051\n",
       "27     59782.2162\n",
       "28     59782.2274\n",
       "29     59797.2861\n",
       "          ...    \n",
       "322    60603.0286\n",
       "323    60603.0363\n",
       "324    60603.0473\n",
       "325    60603.0584\n",
       "326    60606.0225\n",
       "327    60606.0303\n",
       "328    60606.0379\n",
       "329    60606.0490\n",
       "330    60606.0601\n",
       "331    60609.0247\n",
       "332    60609.0323\n",
       "333    60609.0400\n",
       "334    60609.0510\n",
       "335    60609.0621\n",
       "336    60612.0266\n",
       "337    60613.0269\n",
       "338    60614.0276\n",
       "339    60615.0375\n",
       "340    60616.0290\n",
       "341    60617.0295\n",
       "342    60621.1734\n",
       "343    60621.1810\n",
       "344    60621.1886\n",
       "345    60621.1996\n",
       "346    60621.2105\n",
       "347    60624.1760\n",
       "348    60624.1836\n",
       "349    60624.1913\n",
       "350    60624.2022\n",
       "351    60624.2132\n",
       "Name: mjd, Length: 352, dtype: float64>"
      ]
     },
     "execution_count": 31,
     "metadata": {},
     "output_type": "execute_result"
    }
   ],
   "source": [
    "obj_615['mjd'].min"
   ]
  },
  {
   "cell_type": "code",
   "execution_count": 32,
   "metadata": {},
   "outputs": [],
   "source": [
    "pass_1 = obj_615[obj_615['passband'] == 1]\n",
    "x = pass_1['mjd']\n",
    "y = pass_1['flux']"
   ]
  },
  {
   "cell_type": "code",
   "execution_count": 58,
   "metadata": {},
   "outputs": [
    {
     "data": {
      "text/html": [
       "\n",
       "\n",
       "\n",
       "\n",
       "\n",
       "\n",
       "  <div class=\"bk-root\" id=\"97228ad9-d93a-4ac6-93ac-f08e2281bb68\" data-root-id=\"3819\"></div>\n"
      ]
     },
     "metadata": {},
     "output_type": "display_data"
    },
    {
     "data": {
      "application/javascript": [
       "(function(root) {\n",
       "  function embed_document(root) {\n",
       "    \n",
       "  var docs_json = {\"5ca36fa7-ce3f-4c2c-b314-43e288e79c8b\":{\"roots\":{\"references\":[{\"attributes\":{\"below\":[{\"id\":\"3829\",\"type\":\"LinearAxis\"}],\"left\":[{\"id\":\"3834\",\"type\":\"LinearAxis\"}],\"renderers\":[{\"id\":\"3829\",\"type\":\"LinearAxis\"},{\"id\":\"3833\",\"type\":\"Grid\"},{\"id\":\"3834\",\"type\":\"LinearAxis\"},{\"id\":\"3838\",\"type\":\"Grid\"},{\"id\":\"3847\",\"type\":\"BoxAnnotation\"},{\"id\":\"3865\",\"type\":\"Legend\"},{\"id\":\"3857\",\"type\":\"GlyphRenderer\"},{\"id\":\"3870\",\"type\":\"GlyphRenderer\"}],\"title\":{\"id\":\"3818\",\"type\":\"Title\"},\"toolbar\":{\"id\":\"3845\",\"type\":\"Toolbar\"},\"x_range\":{\"id\":\"3821\",\"type\":\"DataRange1d\"},\"x_scale\":{\"id\":\"3825\",\"type\":\"LinearScale\"},\"y_range\":{\"id\":\"3823\",\"type\":\"DataRange1d\"},\"y_scale\":{\"id\":\"3827\",\"type\":\"LinearScale\"}},\"id\":\"3819\",\"subtype\":\"Figure\",\"type\":\"Plot\"},{\"attributes\":{\"callback\":null,\"data\":{\"x\":{\"__ndarray__\":\"taZ5x80s7UA17zhFDS3tQLTIdr7pLu1Av30dOEcv7UDFILByajDtQAfOGVHGMO1A8kHPZqky7UDaG3xhCjPtQIcW2c7lM+1AVHQkl0M07UBUdCSXozTtQNXnaitiN+1ABaOSOuE37UD+1HjpQDjtQJ5eKcvCOe1AbcX+siE67UDM7snDADvtQEJg5dBgO+1AzojS3sA77UBbsb/sIDztQBSuR+GCPe1AMzMzM+E97UDDZKpgiFvtQGlv8IUnX+1AumsJ+URg7UDgLZCgpGDtQO84RUcEYe1A8BZIUKpi7UCI9NvXC2PtQKqCUUlFZO1Au7iNBqRk7UAAkX77AGbtQGx4eqVgZu1A+n5qvKBn7UDKMsSxAGjtQMsQx7pgaO1ANs07Tqdp7UBcj8L1AGrtQNnO91Mha+1AhetRuEiJ7UBxPQrXp4ntQJzEILCIi+1AIbByaIuO7UBMN4lB5I7tQG+BBMVHj+1Aj1N0JEuQ7UAwuycPo5DtQDXvOEXpku1A/Knx0sOT7UD8GHPXIJTtQMe6uI2AlO1AB/AWSCKW7UC/fR04gZbtQBWMSupgl+1AorQ3+MCX7UB1ApoIIZjtQBKDwMqlme1AcRsN4AWa7UA=\",\"dtype\":\"float64\",\"shape\":[58]},\"y\":{\"__ndarray__\":\"a+7of3mDicAJOe//05WQwHhIMUCCeYnA0LUvoFegicBlwcQfBciMwK/RcqCHEXzAyK8fYoPBQUBuFcRAVzFgQKiPwB++THrAVFInoCl4gMC4BOCfwjGRwMNhaeDHRGbAeVT83xHPjcBNGTigxV+PwCYXY2CdPGtA+MPPfy80hEDlRSbgV3GNwBmrzf9rdYzAR+nSv+SbhEDKcDyfAbNYwD2zJEDNVnvAyogLQCM6h8A5hgDgWHCLwFRA2v8Ar4zA1Lt4P24PT8B0J9h/3SGKwB3J5T9k1ZDA8J9uoAA+dcASgeofxBGQwC44g78fTHFA9bcE4N9XhEANVwdAHBiRwDqSy38II3fAF58CYBz7kMAh5/1/XKV1QBmojH8fSnZA0bLuH5sqkcBrm+JxUQ0tQKFoHsACpYRAlREXgCaEg8Bhpu1faRyQwBZRE30+fkDAH9jxX0CygUAqIO1/kPOQwDQO9buwh0lAEHhgAOHCYUDjNhrAm9KQwO1+FeCbYY7A5UUm4FdmicAXnwJgvBmOwFZhM8BFeoRAj/zBwPOgaUDxnC0gtEN4wCgpsACmn1FAY7K4/wiYfECQ9j/AWsmAwAD9vn9T+ILAhqjCn2H4gkA=\",\"dtype\":\"float64\",\"shape\":[58]}},\"selected\":{\"id\":\"3947\",\"type\":\"Selection\"},\"selection_policy\":{\"id\":\"3948\",\"type\":\"UnionRenderers\"}},\"id\":\"3867\",\"type\":\"ColumnDataSource\"},{\"attributes\":{\"bottom_units\":\"screen\",\"fill_alpha\":{\"value\":0.5},\"fill_color\":{\"value\":\"lightgrey\"},\"left_units\":\"screen\",\"level\":\"overlay\",\"line_alpha\":{\"value\":1.0},\"line_color\":{\"value\":\"black\"},\"line_dash\":[4,4],\"line_width\":{\"value\":2},\"plot\":null,\"render_mode\":\"css\",\"right_units\":\"screen\",\"top_units\":\"screen\"},\"id\":\"3847\",\"type\":\"BoxAnnotation\"},{\"attributes\":{\"fill_color\":{\"value\":null},\"line_color\":{\"value\":\"#798800\"},\"x\":{\"field\":\"x\"},\"y\":{\"field\":\"y\"}},\"id\":\"3855\",\"type\":\"Square\"},{\"attributes\":{},\"id\":\"3863\",\"type\":\"BasicTickFormatter\"},{\"attributes\":{\"active_drag\":\"auto\",\"active_inspect\":\"auto\",\"active_multi\":null,\"active_scroll\":\"auto\",\"active_tap\":\"auto\",\"tools\":[{\"id\":\"3839\",\"type\":\"PanTool\"},{\"id\":\"3840\",\"type\":\"WheelZoomTool\"},{\"id\":\"3841\",\"type\":\"BoxZoomTool\"},{\"id\":\"3842\",\"type\":\"SaveTool\"},{\"id\":\"3843\",\"type\":\"ResetTool\"},{\"id\":\"3844\",\"type\":\"HelpTool\"}]},\"id\":\"3845\",\"type\":\"Toolbar\"},{\"attributes\":{\"callback\":null,\"data\":{\"x\":{\"__ndarray__\":\"taZ5x80s7UA17zhFDS3tQLTIdr7pLu1Av30dOEcv7UDFILByajDtQAfOGVHGMO1A8kHPZqky7UDaG3xhCjPtQIcW2c7lM+1AVHQkl0M07UBUdCSXozTtQNXnaitiN+1ABaOSOuE37UD+1HjpQDjtQJ5eKcvCOe1AbcX+siE67UDM7snDADvtQEJg5dBgO+1AzojS3sA77UBbsb/sIDztQBSuR+GCPe1AMzMzM+E97UDDZKpgiFvtQGlv8IUnX+1AumsJ+URg7UDgLZCgpGDtQO84RUcEYe1A8BZIUKpi7UCI9NvXC2PtQKqCUUlFZO1Au7iNBqRk7UAAkX77AGbtQGx4eqVgZu1A+n5qvKBn7UDKMsSxAGjtQMsQx7pgaO1ANs07Tqdp7UBcj8L1AGrtQNnO91Mha+1AhetRuEiJ7UBxPQrXp4ntQJzEILCIi+1AIbByaIuO7UBMN4lB5I7tQG+BBMVHj+1Aj1N0JEuQ7UAwuycPo5DtQDXvOEXpku1A/Knx0sOT7UD8GHPXIJTtQMe6uI2AlO1AB/AWSCKW7UC/fR04gZbtQBWMSupgl+1AorQ3+MCX7UB1ApoIIZjtQBKDwMqlme1AcRsN4AWa7UA=\",\"dtype\":\"float64\",\"shape\":[58]},\"y\":{\"__ndarray__\":\"a+7of3mDicAJOe//05WQwHhIMUCCeYnA0LUvoFegicBlwcQfBciMwK/RcqCHEXzAyK8fYoPBQUBuFcRAVzFgQKiPwB++THrAVFInoCl4gMC4BOCfwjGRwMNhaeDHRGbAeVT83xHPjcBNGTigxV+PwCYXY2CdPGtA+MPPfy80hEDlRSbgV3GNwBmrzf9rdYzAR+nSv+SbhEDKcDyfAbNYwD2zJEDNVnvAyogLQCM6h8A5hgDgWHCLwFRA2v8Ar4zA1Lt4P24PT8B0J9h/3SGKwB3J5T9k1ZDA8J9uoAA+dcASgeofxBGQwC44g78fTHFA9bcE4N9XhEANVwdAHBiRwDqSy38II3fAF58CYBz7kMAh5/1/XKV1QBmojH8fSnZA0bLuH5sqkcBrm+JxUQ0tQKFoHsACpYRAlREXgCaEg8Bhpu1faRyQwBZRE30+fkDAH9jxX0CygUAqIO1/kPOQwDQO9buwh0lAEHhgAOHCYUDjNhrAm9KQwO1+FeCbYY7A5UUm4FdmicAXnwJgvBmOwFZhM8BFeoRAj/zBwPOgaUDxnC0gtEN4wCgpsACmn1FAY7K4/wiYfECQ9j/AWsmAwAD9vn9T+ILAhqjCn2H4gkA=\",\"dtype\":\"float64\",\"shape\":[58]}},\"selected\":{\"id\":\"3877\",\"type\":\"Selection\"},\"selection_policy\":{\"id\":\"3878\",\"type\":\"UnionRenderers\"}},\"id\":\"3854\",\"type\":\"ColumnDataSource\"},{\"attributes\":{\"data_source\":{\"id\":\"3854\",\"type\":\"ColumnDataSource\"},\"glyph\":{\"id\":\"3855\",\"type\":\"Square\"},\"hover_glyph\":null,\"muted_glyph\":null,\"nonselection_glyph\":{\"id\":\"3856\",\"type\":\"Square\"},\"selection_glyph\":null,\"view\":{\"id\":\"3858\",\"type\":\"CDSView\"}},\"id\":\"3857\",\"type\":\"GlyphRenderer\"},{\"attributes\":{\"plot\":null,\"text\":\"Passband\"},\"id\":\"3818\",\"type\":\"Title\"},{\"attributes\":{\"data_source\":{\"id\":\"3867\",\"type\":\"ColumnDataSource\"},\"glyph\":{\"id\":\"3868\",\"type\":\"Line\"},\"hover_glyph\":null,\"muted_glyph\":null,\"nonselection_glyph\":{\"id\":\"3869\",\"type\":\"Line\"},\"selection_glyph\":null,\"view\":{\"id\":\"3871\",\"type\":\"CDSView\"}},\"id\":\"3870\",\"type\":\"GlyphRenderer\"},{\"attributes\":{},\"id\":\"3861\",\"type\":\"BasicTickFormatter\"},{\"attributes\":{\"callback\":null},\"id\":\"3823\",\"type\":\"DataRange1d\"},{\"attributes\":{},\"id\":\"3948\",\"type\":\"UnionRenderers\"},{\"attributes\":{\"dimension\":1,\"plot\":{\"id\":\"3819\",\"subtype\":\"Figure\",\"type\":\"Plot\"},\"ticker\":{\"id\":\"3835\",\"type\":\"BasicTicker\"}},\"id\":\"3838\",\"type\":\"Grid\"},{\"attributes\":{\"source\":{\"id\":\"3854\",\"type\":\"ColumnDataSource\"}},\"id\":\"3858\",\"type\":\"CDSView\"},{\"attributes\":{},\"id\":\"3825\",\"type\":\"LinearScale\"},{\"attributes\":{\"axis_label\":\"Time\",\"formatter\":{\"id\":\"3861\",\"type\":\"BasicTickFormatter\"},\"plot\":{\"id\":\"3819\",\"subtype\":\"Figure\",\"type\":\"Plot\"},\"ticker\":{\"id\":\"3830\",\"type\":\"BasicTicker\"}},\"id\":\"3829\",\"type\":\"LinearAxis\"},{\"attributes\":{\"fill_alpha\":{\"value\":0.1},\"fill_color\":{\"value\":\"#1f77b4\"},\"line_alpha\":{\"value\":0.1},\"line_color\":{\"value\":\"#1f77b4\"},\"x\":{\"field\":\"x\"},\"y\":{\"field\":\"y\"}},\"id\":\"3856\",\"type\":\"Square\"},{\"attributes\":{\"overlay\":{\"id\":\"3847\",\"type\":\"BoxAnnotation\"}},\"id\":\"3841\",\"type\":\"BoxZoomTool\"},{\"attributes\":{},\"id\":\"3827\",\"type\":\"LinearScale\"},{\"attributes\":{},\"id\":\"3878\",\"type\":\"UnionRenderers\"},{\"attributes\":{\"source\":{\"id\":\"3867\",\"type\":\"ColumnDataSource\"}},\"id\":\"3871\",\"type\":\"CDSView\"},{\"attributes\":{},\"id\":\"3947\",\"type\":\"Selection\"},{\"attributes\":{},\"id\":\"3840\",\"type\":\"WheelZoomTool\"},{\"attributes\":{},\"id\":\"3839\",\"type\":\"PanTool\"},{\"attributes\":{},\"id\":\"3842\",\"type\":\"SaveTool\"},{\"attributes\":{\"line_alpha\":0.1,\"line_color\":\"#1f77b4\",\"x\":{\"field\":\"x\"},\"y\":{\"field\":\"y\"}},\"id\":\"3869\",\"type\":\"Line\"},{\"attributes\":{\"plot\":{\"id\":\"3819\",\"subtype\":\"Figure\",\"type\":\"Plot\"},\"ticker\":{\"id\":\"3830\",\"type\":\"BasicTicker\"}},\"id\":\"3833\",\"type\":\"Grid\"},{\"attributes\":{},\"id\":\"3844\",\"type\":\"HelpTool\"},{\"attributes\":{\"items\":[{\"id\":\"3866\",\"type\":\"LegendItem\"}],\"plot\":{\"id\":\"3819\",\"subtype\":\"Figure\",\"type\":\"Plot\"}},\"id\":\"3865\",\"type\":\"Legend\"},{\"attributes\":{\"callback\":null},\"id\":\"3821\",\"type\":\"DataRange1d\"},{\"attributes\":{\"axis_label\":\"Flux\",\"formatter\":{\"id\":\"3863\",\"type\":\"BasicTickFormatter\"},\"plot\":{\"id\":\"3819\",\"subtype\":\"Figure\",\"type\":\"Plot\"},\"ticker\":{\"id\":\"3835\",\"type\":\"BasicTicker\"}},\"id\":\"3834\",\"type\":\"LinearAxis\"},{\"attributes\":{\"label\":{\"value\":\"Flux\"},\"renderers\":[{\"id\":\"3857\",\"type\":\"GlyphRenderer\"},{\"id\":\"3870\",\"type\":\"GlyphRenderer\"}]},\"id\":\"3866\",\"type\":\"LegendItem\"},{\"attributes\":{},\"id\":\"3877\",\"type\":\"Selection\"},{\"attributes\":{},\"id\":\"3835\",\"type\":\"BasicTicker\"},{\"attributes\":{\"line_color\":\"green\",\"x\":{\"field\":\"x\"},\"y\":{\"field\":\"y\"}},\"id\":\"3868\",\"type\":\"Line\"},{\"attributes\":{},\"id\":\"3830\",\"type\":\"BasicTicker\"},{\"attributes\":{},\"id\":\"3843\",\"type\":\"ResetTool\"}],\"root_ids\":[\"3819\"]},\"title\":\"Bokeh Application\",\"version\":\"1.0.4\"}};\n",
       "  var render_items = [{\"docid\":\"5ca36fa7-ce3f-4c2c-b314-43e288e79c8b\",\"roots\":{\"3819\":\"97228ad9-d93a-4ac6-93ac-f08e2281bb68\"}}];\n",
       "  root.Bokeh.embed.embed_items_notebook(docs_json, render_items);\n",
       "\n",
       "  }\n",
       "  if (root.Bokeh !== undefined) {\n",
       "    embed_document(root);\n",
       "  } else {\n",
       "    var attempts = 0;\n",
       "    var timer = setInterval(function(root) {\n",
       "      if (root.Bokeh !== undefined) {\n",
       "        embed_document(root);\n",
       "        clearInterval(timer);\n",
       "      }\n",
       "      attempts++;\n",
       "      if (attempts > 100) {\n",
       "        console.log(\"Bokeh: ERROR: Unable to run BokehJS code because BokehJS library is missing\");\n",
       "        clearInterval(timer);\n",
       "      }\n",
       "    }, 10, root)\n",
       "  }\n",
       "})(window);"
      ],
      "application/vnd.bokehjs_exec.v0+json": ""
     },
     "metadata": {
      "application/vnd.bokehjs_exec.v0+json": {
       "id": "3819"
      }
     },
     "output_type": "display_data"
    }
   ],
   "source": [
    "# create a new plot with a title and axis labels\n",
    "p = figure(title=\"Passband\", x_axis_label='Time', y_axis_label='Flux')\n",
    "\n",
    "# add a line renderer with legend and line thickness\n",
    "p.square(x, y, legend=\"Flux\", fill_color=None, line_color=\"#798800\")\n",
    "p.line(x, y, legend=\"Flux\",line_width=1, line_color=\"green\")\n",
    "# show the results\n",
    "show(p)"
   ]
  },
  {
   "cell_type": "code",
   "execution_count": 53,
   "metadata": {},
   "outputs": [
    {
     "data": {
      "text/html": [
       "\n",
       "\n",
       "\n",
       "\n",
       "\n",
       "\n",
       "  <div class=\"bk-root\" id=\"85990c3f-357b-4680-afa3-bae79ae92687\" data-root-id=\"3105\"></div>\n"
      ]
     },
     "metadata": {},
     "output_type": "display_data"
    },
    {
     "data": {
      "application/javascript": [
       "(function(root) {\n",
       "  function embed_document(root) {\n",
       "    \n",
       "  var docs_json = {\"1b867d78-660c-41b2-92c8-a0a2ea9b06b7\":{\"roots\":{\"references\":[{\"attributes\":{\"below\":[{\"id\":\"3115\",\"type\":\"LinearAxis\"}],\"left\":[{\"id\":\"3120\",\"type\":\"LinearAxis\"}],\"renderers\":[{\"id\":\"3115\",\"type\":\"LinearAxis\"},{\"id\":\"3119\",\"type\":\"Grid\"},{\"id\":\"3120\",\"type\":\"LinearAxis\"},{\"id\":\"3124\",\"type\":\"Grid\"},{\"id\":\"3133\",\"type\":\"BoxAnnotation\"},{\"id\":\"3151\",\"type\":\"Legend\"},{\"id\":\"3143\",\"type\":\"GlyphRenderer\"},{\"id\":\"3156\",\"type\":\"GlyphRenderer\"}],\"title\":{\"id\":\"3104\",\"type\":\"Title\"},\"toolbar\":{\"id\":\"3131\",\"type\":\"Toolbar\"},\"x_range\":{\"id\":\"3107\",\"type\":\"DataRange1d\"},\"x_scale\":{\"id\":\"3111\",\"type\":\"LinearScale\"},\"y_range\":{\"id\":\"3109\",\"type\":\"DataRange1d\"},\"y_scale\":{\"id\":\"3113\",\"type\":\"LinearScale\"}},\"id\":\"3105\",\"subtype\":\"Figure\",\"type\":\"Plot\"},{\"attributes\":{},\"id\":\"3208\",\"type\":\"UnionRenderers\"},{\"attributes\":{\"data_source\":{\"id\":\"3153\",\"type\":\"ColumnDataSource\"},\"glyph\":{\"id\":\"3154\",\"type\":\"Line\"},\"hover_glyph\":null,\"muted_glyph\":null,\"nonselection_glyph\":{\"id\":\"3155\",\"type\":\"Line\"},\"selection_glyph\":null,\"view\":{\"id\":\"3157\",\"type\":\"CDSView\"}},\"id\":\"3156\",\"type\":\"GlyphRenderer\"},{\"attributes\":{\"callback\":null,\"data\":{\"x\":{\"__ndarray__\":\"taZ5x80s7UA17zhFDS3tQLTIdr7pLu1Av30dOEcv7UDFILByajDtQAfOGVHGMO1A8kHPZqky7UDaG3xhCjPtQIcW2c7lM+1AVHQkl0M07UBUdCSXozTtQNXnaitiN+1ABaOSOuE37UD+1HjpQDjtQJ5eKcvCOe1AbcX+siE67UDM7snDADvtQEJg5dBgO+1AzojS3sA77UBbsb/sIDztQBSuR+GCPe1AMzMzM+E97UDDZKpgiFvtQGlv8IUnX+1AumsJ+URg7UDgLZCgpGDtQO84RUcEYe1A8BZIUKpi7UCI9NvXC2PtQKqCUUlFZO1Au7iNBqRk7UAAkX77AGbtQGx4eqVgZu1A+n5qvKBn7UDKMsSxAGjtQMsQx7pgaO1ANs07Tqdp7UBcj8L1AGrtQNnO91Mha+1AhetRuEiJ7UBxPQrXp4ntQJzEILCIi+1AIbByaIuO7UBMN4lB5I7tQG+BBMVHj+1Aj1N0JEuQ7UAwuycPo5DtQDXvOEXpku1A/Knx0sOT7UD8GHPXIJTtQMe6uI2AlO1AB/AWSCKW7UC/fR04gZbtQBWMSupgl+1AorQ3+MCX7UB1ApoIIZjtQBKDwMqlme1AcRsN4AWa7UA=\",\"dtype\":\"float64\",\"shape\":[58]},\"y\":{\"__ndarray__\":\"a+7of3mDicAJOe//05WQwHhIMUCCeYnA0LUvoFegicBlwcQfBciMwK/RcqCHEXzAyK8fYoPBQUBuFcRAVzFgQKiPwB++THrAVFInoCl4gMC4BOCfwjGRwMNhaeDHRGbAeVT83xHPjcBNGTigxV+PwCYXY2CdPGtA+MPPfy80hEDlRSbgV3GNwBmrzf9rdYzAR+nSv+SbhEDKcDyfAbNYwD2zJEDNVnvAyogLQCM6h8A5hgDgWHCLwFRA2v8Ar4zA1Lt4P24PT8B0J9h/3SGKwB3J5T9k1ZDA8J9uoAA+dcASgeofxBGQwC44g78fTHFA9bcE4N9XhEANVwdAHBiRwDqSy38II3fAF58CYBz7kMAh5/1/XKV1QBmojH8fSnZA0bLuH5sqkcBrm+JxUQ0tQKFoHsACpYRAlREXgCaEg8Bhpu1faRyQwBZRE30+fkDAH9jxX0CygUAqIO1/kPOQwDQO9buwh0lAEHhgAOHCYUDjNhrAm9KQwO1+FeCbYY7A5UUm4FdmicAXnwJgvBmOwFZhM8BFeoRAj/zBwPOgaUDxnC0gtEN4wCgpsACmn1FAY7K4/wiYfECQ9j/AWsmAwAD9vn9T+ILAhqjCn2H4gkA=\",\"dtype\":\"float64\",\"shape\":[58]}},\"selected\":{\"id\":\"3207\",\"type\":\"Selection\"},\"selection_policy\":{\"id\":\"3208\",\"type\":\"UnionRenderers\"}},\"id\":\"3153\",\"type\":\"ColumnDataSource\"},{\"attributes\":{},\"id\":\"3129\",\"type\":\"ResetTool\"},{\"attributes\":{},\"id\":\"3206\",\"type\":\"UnionRenderers\"},{\"attributes\":{},\"id\":\"3125\",\"type\":\"PanTool\"},{\"attributes\":{},\"id\":\"3205\",\"type\":\"Selection\"},{\"attributes\":{\"data_source\":{\"id\":\"3140\",\"type\":\"ColumnDataSource\"},\"glyph\":{\"id\":\"3141\",\"type\":\"Square\"},\"hover_glyph\":null,\"muted_glyph\":null,\"nonselection_glyph\":{\"id\":\"3142\",\"type\":\"Square\"},\"selection_glyph\":null,\"view\":{\"id\":\"3144\",\"type\":\"CDSView\"}},\"id\":\"3143\",\"type\":\"GlyphRenderer\"},{\"attributes\":{\"source\":{\"id\":\"3153\",\"type\":\"ColumnDataSource\"}},\"id\":\"3157\",\"type\":\"CDSView\"},{\"attributes\":{\"fill_color\":{\"value\":null},\"line_color\":{\"value\":\"green\"},\"x\":{\"field\":\"x\"},\"y\":{\"field\":\"y\"}},\"id\":\"3141\",\"type\":\"Square\"},{\"attributes\":{\"axis_label\":\"Flux\",\"formatter\":{\"id\":\"3149\",\"type\":\"BasicTickFormatter\"},\"plot\":{\"id\":\"3105\",\"subtype\":\"Figure\",\"type\":\"Plot\"},\"ticker\":{\"id\":\"3121\",\"type\":\"BasicTicker\"}},\"id\":\"3120\",\"type\":\"LinearAxis\"},{\"attributes\":{},\"id\":\"3128\",\"type\":\"SaveTool\"},{\"attributes\":{\"source\":{\"id\":\"3140\",\"type\":\"ColumnDataSource\"}},\"id\":\"3144\",\"type\":\"CDSView\"},{\"attributes\":{\"label\":{\"value\":\"Flux\"},\"renderers\":[{\"id\":\"3143\",\"type\":\"GlyphRenderer\"}]},\"id\":\"3152\",\"type\":\"LegendItem\"},{\"attributes\":{\"overlay\":{\"id\":\"3133\",\"type\":\"BoxAnnotation\"}},\"id\":\"3127\",\"type\":\"BoxZoomTool\"},{\"attributes\":{},\"id\":\"3130\",\"type\":\"HelpTool\"},{\"attributes\":{\"fill_alpha\":{\"value\":0.1},\"fill_color\":{\"value\":\"#1f77b4\"},\"line_alpha\":{\"value\":0.1},\"line_color\":{\"value\":\"#1f77b4\"},\"x\":{\"field\":\"x\"},\"y\":{\"field\":\"y\"}},\"id\":\"3142\",\"type\":\"Square\"},{\"attributes\":{\"line_alpha\":0.1,\"line_color\":\"#1f77b4\",\"line_width\":2,\"x\":{\"field\":\"x\"},\"y\":{\"field\":\"y\"}},\"id\":\"3155\",\"type\":\"Line\"},{\"attributes\":{\"plot\":null,\"text\":\"Passband\"},\"id\":\"3104\",\"type\":\"Title\"},{\"attributes\":{\"axis_label\":\"Time\",\"formatter\":{\"id\":\"3147\",\"type\":\"BasicTickFormatter\"},\"plot\":{\"id\":\"3105\",\"subtype\":\"Figure\",\"type\":\"Plot\"},\"ticker\":{\"id\":\"3116\",\"type\":\"BasicTicker\"}},\"id\":\"3115\",\"type\":\"LinearAxis\"},{\"attributes\":{\"dimension\":1,\"plot\":{\"id\":\"3105\",\"subtype\":\"Figure\",\"type\":\"Plot\"},\"ticker\":{\"id\":\"3121\",\"type\":\"BasicTicker\"}},\"id\":\"3124\",\"type\":\"Grid\"},{\"attributes\":{},\"id\":\"3147\",\"type\":\"BasicTickFormatter\"},{\"attributes\":{},\"id\":\"3149\",\"type\":\"BasicTickFormatter\"},{\"attributes\":{\"items\":[{\"id\":\"3152\",\"type\":\"LegendItem\"}],\"plot\":{\"id\":\"3105\",\"subtype\":\"Figure\",\"type\":\"Plot\"}},\"id\":\"3151\",\"type\":\"Legend\"},{\"attributes\":{},\"id\":\"3121\",\"type\":\"BasicTicker\"},{\"attributes\":{\"bottom_units\":\"screen\",\"fill_alpha\":{\"value\":0.5},\"fill_color\":{\"value\":\"lightgrey\"},\"left_units\":\"screen\",\"level\":\"overlay\",\"line_alpha\":{\"value\":1.0},\"line_color\":{\"value\":\"black\"},\"line_dash\":[4,4],\"line_width\":{\"value\":2},\"plot\":null,\"render_mode\":\"css\",\"right_units\":\"screen\",\"top_units\":\"screen\"},\"id\":\"3133\",\"type\":\"BoxAnnotation\"},{\"attributes\":{\"line_color\":\"green\",\"line_width\":2,\"x\":{\"field\":\"x\"},\"y\":{\"field\":\"y\"}},\"id\":\"3154\",\"type\":\"Line\"},{\"attributes\":{},\"id\":\"3116\",\"type\":\"BasicTicker\"},{\"attributes\":{},\"id\":\"3113\",\"type\":\"LinearScale\"},{\"attributes\":{},\"id\":\"3126\",\"type\":\"WheelZoomTool\"},{\"attributes\":{\"callback\":null},\"id\":\"3107\",\"type\":\"DataRange1d\"},{\"attributes\":{},\"id\":\"3111\",\"type\":\"LinearScale\"},{\"attributes\":{\"callback\":null,\"data\":{\"x\":{\"__ndarray__\":\"taZ5x80s7UA17zhFDS3tQLTIdr7pLu1Av30dOEcv7UDFILByajDtQAfOGVHGMO1A8kHPZqky7UDaG3xhCjPtQIcW2c7lM+1AVHQkl0M07UBUdCSXozTtQNXnaitiN+1ABaOSOuE37UD+1HjpQDjtQJ5eKcvCOe1AbcX+siE67UDM7snDADvtQEJg5dBgO+1AzojS3sA77UBbsb/sIDztQBSuR+GCPe1AMzMzM+E97UDDZKpgiFvtQGlv8IUnX+1AumsJ+URg7UDgLZCgpGDtQO84RUcEYe1A8BZIUKpi7UCI9NvXC2PtQKqCUUlFZO1Au7iNBqRk7UAAkX77AGbtQGx4eqVgZu1A+n5qvKBn7UDKMsSxAGjtQMsQx7pgaO1ANs07Tqdp7UBcj8L1AGrtQNnO91Mha+1AhetRuEiJ7UBxPQrXp4ntQJzEILCIi+1AIbByaIuO7UBMN4lB5I7tQG+BBMVHj+1Aj1N0JEuQ7UAwuycPo5DtQDXvOEXpku1A/Knx0sOT7UD8GHPXIJTtQMe6uI2AlO1AB/AWSCKW7UC/fR04gZbtQBWMSupgl+1AorQ3+MCX7UB1ApoIIZjtQBKDwMqlme1AcRsN4AWa7UA=\",\"dtype\":\"float64\",\"shape\":[58]},\"y\":{\"__ndarray__\":\"a+7of3mDicAJOe//05WQwHhIMUCCeYnA0LUvoFegicBlwcQfBciMwK/RcqCHEXzAyK8fYoPBQUBuFcRAVzFgQKiPwB++THrAVFInoCl4gMC4BOCfwjGRwMNhaeDHRGbAeVT83xHPjcBNGTigxV+PwCYXY2CdPGtA+MPPfy80hEDlRSbgV3GNwBmrzf9rdYzAR+nSv+SbhEDKcDyfAbNYwD2zJEDNVnvAyogLQCM6h8A5hgDgWHCLwFRA2v8Ar4zA1Lt4P24PT8B0J9h/3SGKwB3J5T9k1ZDA8J9uoAA+dcASgeofxBGQwC44g78fTHFA9bcE4N9XhEANVwdAHBiRwDqSy38II3fAF58CYBz7kMAh5/1/XKV1QBmojH8fSnZA0bLuH5sqkcBrm+JxUQ0tQKFoHsACpYRAlREXgCaEg8Bhpu1faRyQwBZRE30+fkDAH9jxX0CygUAqIO1/kPOQwDQO9buwh0lAEHhgAOHCYUDjNhrAm9KQwO1+FeCbYY7A5UUm4FdmicAXnwJgvBmOwFZhM8BFeoRAj/zBwPOgaUDxnC0gtEN4wCgpsACmn1FAY7K4/wiYfECQ9j/AWsmAwAD9vn9T+ILAhqjCn2H4gkA=\",\"dtype\":\"float64\",\"shape\":[58]}},\"selected\":{\"id\":\"3205\",\"type\":\"Selection\"},\"selection_policy\":{\"id\":\"3206\",\"type\":\"UnionRenderers\"}},\"id\":\"3140\",\"type\":\"ColumnDataSource\"},{\"attributes\":{\"plot\":{\"id\":\"3105\",\"subtype\":\"Figure\",\"type\":\"Plot\"},\"ticker\":{\"id\":\"3116\",\"type\":\"BasicTicker\"}},\"id\":\"3119\",\"type\":\"Grid\"},{\"attributes\":{\"active_drag\":\"auto\",\"active_inspect\":\"auto\",\"active_multi\":null,\"active_scroll\":\"auto\",\"active_tap\":\"auto\",\"tools\":[{\"id\":\"3125\",\"type\":\"PanTool\"},{\"id\":\"3126\",\"type\":\"WheelZoomTool\"},{\"id\":\"3127\",\"type\":\"BoxZoomTool\"},{\"id\":\"3128\",\"type\":\"SaveTool\"},{\"id\":\"3129\",\"type\":\"ResetTool\"},{\"id\":\"3130\",\"type\":\"HelpTool\"}]},\"id\":\"3131\",\"type\":\"Toolbar\"},{\"attributes\":{},\"id\":\"3207\",\"type\":\"Selection\"},{\"attributes\":{\"callback\":null},\"id\":\"3109\",\"type\":\"DataRange1d\"}],\"root_ids\":[\"3105\"]},\"title\":\"Bokeh Application\",\"version\":\"1.0.4\"}};\n",
       "  var render_items = [{\"docid\":\"1b867d78-660c-41b2-92c8-a0a2ea9b06b7\",\"roots\":{\"3105\":\"85990c3f-357b-4680-afa3-bae79ae92687\"}}];\n",
       "  root.Bokeh.embed.embed_items_notebook(docs_json, render_items);\n",
       "\n",
       "  }\n",
       "  if (root.Bokeh !== undefined) {\n",
       "    embed_document(root);\n",
       "  } else {\n",
       "    var attempts = 0;\n",
       "    var timer = setInterval(function(root) {\n",
       "      if (root.Bokeh !== undefined) {\n",
       "        embed_document(root);\n",
       "        clearInterval(timer);\n",
       "      }\n",
       "      attempts++;\n",
       "      if (attempts > 100) {\n",
       "        console.log(\"Bokeh: ERROR: Unable to run BokehJS code because BokehJS library is missing\");\n",
       "        clearInterval(timer);\n",
       "      }\n",
       "    }, 10, root)\n",
       "  }\n",
       "})(window);"
      ],
      "application/vnd.bokehjs_exec.v0+json": ""
     },
     "metadata": {
      "application/vnd.bokehjs_exec.v0+json": {
       "id": "3105"
      }
     },
     "output_type": "display_data"
    }
   ],
   "source": []
  },
  {
   "cell_type": "code",
   "execution_count": 31,
   "metadata": {},
   "outputs": [
    {
     "data": {
      "image/png": "[encoded data removed]",
      "text/plain": [
       "<Figure size 432x288 with 1 Axes>"
      ]
     },
     "metadata": {
      "needs_background": "light"
     },
     "output_type": "display_data"
    }
   ],
   "source": [
    "\n",
    "\n",
    "plt.xlabel('Time')\n",
    "plt.plot(x,y, 'r')\n",
    "plt.title('Passband '+ str(1))\n",
    "plt.grid(True)"
   ]
  },
  {
   "cell_type": "code",
   "execution_count": 16,
   "metadata": {},
   "outputs": [
    {
     "name": "stdout",
     "output_type": "stream",
     "text": [
      "1655719738.5599997 Monday, 20 June 2022 10:08:58.559\n",
      "1731215220.4799998  Sunday, 10 November 2024 5:07:00.479\n",
      "1655720403.84 Monday, 20 June 2022 10:20:03.840\n"
     ]
    }
   ],
   "source": [
    "time_min = (59750.4229-40587)*86400\n",
    "print(time_min, \"Monday, 20 June 2022 10:08:58.559\")\n",
    "\n",
    "time_max = (60624.2132 - 40587)*86400\n",
    "print(time_max, \" Sunday, 10 November 2024 5:07:00.479\")\n",
    "\n",
    "time_med = (59750.4306 - 40587)*86400\n",
    "print(time_med, \"Monday, 20 June 2022 10:20:03.840\")"
   ]
  },
  {
   "cell_type": "code",
   "execution_count": 17,
   "metadata": {},
   "outputs": [
    {
     "data": {
      "image/png": "[encoded data removed]",
      "text/plain": [
       "<Figure size 432x288 with 6 Axes>"
      ]
     },
     "metadata": {
      "needs_background": "light"
     },
     "output_type": "display_data"
    }
   ],
   "source": [
    "passband = [0,1,2,3,4,5]\n",
    "color = ['b', 'g', 'r', 'c', 'm', 'y', 'k', 'w']\n",
    "for band in passband:\n",
    "    pass_1 = obj_615[obj_615['passband'] == band]\n",
    "    x = pass_1['mjd']\n",
    "    y = pass_1['flux']\n",
    "    plt.subplot(6,1,band+1)\n",
    "    plt.xlabel('Time')\n",
    "    plt.plot(x,y, color[band])\n",
    "    plt.title('Passband '+ str(band))\n",
    "    plt.grid(True)\n",
    "#plt.subplots_adjust(hspace=1.0, wspace=2, bottom=0.17, left=0.075, top=0.18)\n",
    "    \n"
   ]
  },
  {
   "cell_type": "code",
   "execution_count": 18,
   "metadata": {},
   "outputs": [
    {
     "data": {
      "image/png": "[encoded data removed]",
      "text/plain": [
       "<Figure size 432x288 with 6 Axes>"
      ]
     },
     "metadata": {
      "needs_background": "light"
     },
     "output_type": "display_data"
    }
   ],
   "source": [
    "passband = [0,1,2,3,4,5]\n",
    "\n",
    "for band in passband:\n",
    "    pass_1 = obj_615[obj_615['passband'] == band]\n",
    "    x = pass_1['mjd']\n",
    "    y = pass_1['flux']\n",
    "    plt.subplot(6,1,band+1)\n",
    "    plt.xlabel('Time')\n",
    "    plt.plot(x,y)\n",
    "    plt.title('Passband '+ str(band))\n",
    "    plt.grid(True)\n",
    "#plt.subplots_adjust(hspace=1.0, wspace=2, bottom=0.17, left=0.075, top=0.18)"
   ]
  },
  {
   "cell_type": "markdown",
   "metadata": {},
   "source": [
    "\n",
    "### Object 713"
   ]
  },
  {
   "cell_type": "code",
   "execution_count": 19,
   "metadata": {},
   "outputs": [
    {
     "data": {
      "text/plain": [
       "(350, 6)"
      ]
     },
     "execution_count": 19,
     "metadata": {},
     "output_type": "execute_result"
    }
   ],
   "source": [
    "pass_2 = obj_615[obj_615['passband'] == 2]\n",
    "\n",
    "obj_713 = df_train[df_train['object_id'] == 713]\n",
    "obj_713.shape\n"
   ]
  },
  {
   "cell_type": "code",
   "execution_count": 20,
   "metadata": {},
   "outputs": [
    {
     "data": {
      "image/png": "[encoded data removed]",
      "text/plain": [
       "<Figure size 432x288 with 6 Axes>"
      ]
     },
     "metadata": {
      "needs_background": "light"
     },
     "output_type": "display_data"
    }
   ],
   "source": [
    "passband = [0,1,2,3,4,5]\n",
    "color = ['b', 'g', 'r', 'c', 'm', 'y', 'k', 'w']\n",
    "for band in passband:\n",
    "    pass_1 = obj_713[obj_713['passband'] == band]\n",
    "    x = pass_1['mjd']\n",
    "    y = pass_1['flux']\n",
    "    plt.subplot(6,1,band+1)\n",
    "    plt.xlabel('Time')\n",
    "    plt.plot(x,y,color[band])\n",
    "    plt.title('Passband '+ str(band))\n",
    "    plt.grid(True)"
   ]
  },
  {
   "cell_type": "markdown",
   "metadata": {},
   "source": [
    "##  Test dataset"
   ]
  },
  {
   "cell_type": "code",
   "execution_count": 21,
   "metadata": {},
   "outputs": [
    {
     "data": {
      "text/plain": [
       "(1000000, 6)"
      ]
     },
     "execution_count": 21,
     "metadata": {},
     "output_type": "execute_result"
    }
   ],
   "source": [
    "\n",
    "df_test_sample.shape"
   ]
  },
  {
   "cell_type": "code",
   "execution_count": 22,
   "metadata": {},
   "outputs": [
    {
     "data": {
      "text/html": [
       "<div>\n",
       "<style scoped>\n",
       "    .dataframe tbody tr th:only-of-type {\n",
       "        vertical-align: middle;\n",
       "    }\n",
       "\n",
       "    .dataframe tbody tr th {\n",
       "        vertical-align: top;\n",
       "    }\n",
       "\n",
       "    .dataframe thead th {\n",
       "        text-align: right;\n",
       "    }\n",
       "</style>\n",
       "<table border=\"1\" class=\"dataframe\">\n",
       "  <thead>\n",
       "    <tr style=\"text-align: right;\">\n",
       "      <th></th>\n",
       "      <th>object_id</th>\n",
       "      <th>mjd</th>\n",
       "      <th>passband</th>\n",
       "      <th>flux</th>\n",
       "      <th>flux_err</th>\n",
       "      <th>detected</th>\n",
       "    </tr>\n",
       "  </thead>\n",
       "  <tbody>\n",
       "    <tr>\n",
       "      <th>0</th>\n",
       "      <td>13</td>\n",
       "      <td>59798.3205</td>\n",
       "      <td>2</td>\n",
       "      <td>-1.299735</td>\n",
       "      <td>1.357315</td>\n",
       "      <td>0</td>\n",
       "    </tr>\n",
       "    <tr>\n",
       "      <th>1</th>\n",
       "      <td>13</td>\n",
       "      <td>59798.3281</td>\n",
       "      <td>1</td>\n",
       "      <td>-2.095392</td>\n",
       "      <td>1.148654</td>\n",
       "      <td>0</td>\n",
       "    </tr>\n",
       "    <tr>\n",
       "      <th>2</th>\n",
       "      <td>13</td>\n",
       "      <td>59798.3357</td>\n",
       "      <td>3</td>\n",
       "      <td>-0.923794</td>\n",
       "      <td>1.763655</td>\n",
       "      <td>0</td>\n",
       "    </tr>\n",
       "    <tr>\n",
       "      <th>3</th>\n",
       "      <td>13</td>\n",
       "      <td>59798.3466</td>\n",
       "      <td>4</td>\n",
       "      <td>-4.009815</td>\n",
       "      <td>2.602911</td>\n",
       "      <td>0</td>\n",
       "    </tr>\n",
       "    <tr>\n",
       "      <th>4</th>\n",
       "      <td>13</td>\n",
       "      <td>59798.3576</td>\n",
       "      <td>5</td>\n",
       "      <td>-3.403503</td>\n",
       "      <td>5.367328</td>\n",
       "      <td>0</td>\n",
       "    </tr>\n",
       "  </tbody>\n",
       "</table>\n",
       "</div>"
      ],
      "text/plain": [
       "   object_id         mjd  passband      flux  flux_err  detected\n",
       "0         13  59798.3205         2 -1.299735  1.357315         0\n",
       "1         13  59798.3281         1 -2.095392  1.148654         0\n",
       "2         13  59798.3357         3 -0.923794  1.763655         0\n",
       "3         13  59798.3466         4 -4.009815  2.602911         0\n",
       "4         13  59798.3576         5 -3.403503  5.367328         0"
      ]
     },
     "execution_count": 22,
     "metadata": {},
     "output_type": "execute_result"
    }
   ],
   "source": [
    "df_test_sample.head()"
   ]
  },
  {
   "cell_type": "code",
   "execution_count": null,
   "metadata": {},
   "outputs": [],
   "source": []
  }
 ],
 "metadata": {
  "kernelspec": {
   "display_name": "Python 3",
   "language": "python",
   "name": "python3"
  },
  "language_info": {
   "codemirror_mode": {
    "name": "ipython",
    "version": 3
   },
   "file_extension": ".py",
   "mimetype": "text/x-python",
   "name": "python",
   "nbconvert_exporter": "python",
   "pygments_lexer": "ipython3",
   "version": "3.6.6"
  }
 },
 "nbformat": 4,
 "nbformat_minor": 2
}
